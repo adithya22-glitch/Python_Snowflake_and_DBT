{
 "cells": [
  {
   "cell_type": "code",
   "execution_count": 1,
   "id": "a7d2a9a8-a3cb-4801-a701-52c16728f5dc",
   "metadata": {},
   "outputs": [
    {
     "name": "stdout",
     "output_type": "stream",
     "text": [
      "Fetching indicator: Return on Assets (ROA) (%)\n",
      "Fetching indicator: Capital to Risk-Weighted Assets (%)\n",
      "Fetching indicator: Capital to Assets Ratio (%)\n",
      "Fetching indicator: Return on Equity (ROE) (%)\n",
      "Fetching indicator: Interest Income to Total Income (%)\n",
      "Collected 20649 rows of ESG/Risk data and saved to 'esg_risk_data.csv'\n"
     ]
    }
   ],
   "source": [
    "import requests\n",
    "import pandas as pd\n",
    "\n",
    "# World Bank indicator codes for ESG/Risk-related metrics\n",
    "INDICATORS = {\n",
    "    \"GFDD.EI.03\": \"Return on Assets (ROA) (%)\",\n",
    "    \"GFDD.SI.02\": \"Capital to Risk-Weighted Assets (%)\",\n",
    "    \"GFDD.SI.01\": \"Capital to Assets Ratio (%)\",\n",
    "    \"GFDD.EI.04\": \"Return on Equity (ROE) (%)\",\n",
    "    \"GFDD.OI.02\": \"Interest Income to Total Income (%)\"\n",
    "}\n",
    "\n",
    "COUNTRIES_URL = \"http://api.worldbank.org/v2/country?format=json&per_page=300\"\n",
    "BASE_URL = \"http://api.worldbank.org/v2/country/{country}/indicator/{indicator}?format=json&per_page=1000\"\n",
    "\n",
    "def fetch_country_codes():\n",
    "    response = requests.get(COUNTRIES_URL)\n",
    "    data = response.json()\n",
    "    countries = [entry['id'] for entry in data[1] if entry['region']['id'] != 'NA']\n",
    "    return countries\n",
    "\n",
    "def fetch_indicator_data(country, indicator):\n",
    "    url = BASE_URL.format(country=country, indicator=indicator)\n",
    "    try:\n",
    "        response = requests.get(url)\n",
    "        data = response.json()\n",
    "        if not isinstance(data, list) or len(data) < 2 or data[1] is None:\n",
    "            return []\n",
    "        return [{\n",
    "            \"country\": entry.get(\"country\", {}).get(\"id\"),\n",
    "            \"country_name\": entry.get(\"country\", {}).get(\"value\"),\n",
    "            \"indicator\": indicator,\n",
    "            \"indicator_name\": INDICATORS[indicator],\n",
    "            \"year\": entry.get(\"date\"),\n",
    "            \"value\": entry.get(\"value\")\n",
    "        } for entry in data[1] if entry.get(\"value\") is not None]\n",
    "    except Exception:\n",
    "        return []\n",
    "\n",
    "def main():\n",
    "    countries = fetch_country_codes()\n",
    "    all_data = []\n",
    "    for indicator in INDICATORS:\n",
    "        print(f\"Fetching indicator: {INDICATORS[indicator]}\")\n",
    "        for country in countries:\n",
    "            records = fetch_indicator_data(country, indicator)\n",
    "            all_data.extend(records)\n",
    "    df = pd.DataFrame(all_data)\n",
    "    df.to_csv(\"esg_risk_data.csv\", index=False)\n",
    "    print(f\"Collected {len(df)} rows of ESG/Risk data and saved to 'esg_risk_data.csv'\")\n",
    "\n",
    "main()\n"
   ]
  },
  {
   "cell_type": "code",
   "execution_count": 3,
   "id": "19d1ae6c-7f3a-4fda-b266-1277a590dcef",
   "metadata": {},
   "outputs": [],
   "source": [
    "import requests\n",
    "import pandas as pd\n",
    "\n",
    "def fetch_indicator(indicator_code, name):\n",
    "    url = f\"http://api.worldbank.org/v2/country/all/indicator/{indicator_code}?format=json&per_page=20000\"\n",
    "    response = requests.get(url)\n",
    "    data = response.json()[1]\n",
    "\n",
    "    return pd.DataFrame([{\n",
    "        \"country\": x[\"country\"][\"id\"],\n",
    "        \"year\": int(x[\"date\"]),\n",
    "        name: x[\"value\"]\n",
    "    } for x in data if x[\"value\"] is not None])\n"
   ]
  },
  {
   "cell_type": "code",
   "execution_count": 4,
   "id": "c899aa2c-0eb3-48c8-9456-79561092376d",
   "metadata": {},
   "outputs": [],
   "source": [
    "df_esg = pd.read_csv(\"esg_risk_data.csv\")\n",
    "df_esg[\"year\"] = df_esg[\"year\"].astype(int)\n"
   ]
  },
  {
   "cell_type": "code",
   "execution_count": 5,
   "id": "ddcfb042-abac-41a1-ae37-a2ac14eaa2da",
   "metadata": {},
   "outputs": [],
   "source": [
    "df_gdp = fetch_indicator(\"NY.GDP.MKTP.CD\", \"gdp\")\n",
    "df_pop = fetch_indicator(\"SP.POP.TOTL\", \"population\")\n",
    "\n",
    "df_merged = df_esg.merge(df_gdp, on=[\"country\", \"year\"], how=\"left\")\n",
    "df_merged = df_merged.merge(df_pop, on=[\"country\", \"year\"], how=\"left\")\n"
   ]
  },
  {
   "cell_type": "code",
   "execution_count": 6,
   "id": "93afc144-4453-47a2-9d4e-eb38d8273064",
   "metadata": {},
   "outputs": [
    {
     "name": "stdout",
     "output_type": "stream",
     "text": [
      "Merged dataset saved with 20649 rows.\n"
     ]
    }
   ],
   "source": [
    "df_merged.to_csv(\"esg_enriched.csv\", index=False)\n",
    "print(f\"Merged dataset saved with {len(df_merged)} rows.\")\n"
   ]
  },
  {
   "cell_type": "code",
   "execution_count": 11,
   "id": "2e560557-b33a-46e3-8cfc-377341b71a65",
   "metadata": {},
   "outputs": [],
   "source": [
    "df_merged = df_merged.dropna(subset=[\"gdp\", \"population\"])\n",
    "df_merged.to_csv(\"esg_risk_enriched.csv\", index=False)"
   ]
  },
  {
   "cell_type": "code",
   "execution_count": 9,
   "id": "755acdef-e73f-4f4e-981c-b5660ac0ee11",
   "metadata": {},
   "outputs": [
    {
     "name": "stdout",
     "output_type": "stream",
     "text": [
      "Process complete!\n"
     ]
    }
   ],
   "source": [
    "%run beeper.ipynb\n",
    "beeper()"
   ]
  },
  {
   "cell_type": "code",
   "execution_count": null,
   "id": "e149e17d-8644-44a2-8917-a1a8223535bc",
   "metadata": {},
   "outputs": [],
   "source": []
  }
 ],
 "metadata": {
  "kernelspec": {
   "display_name": "Python 3 (ipykernel)",
   "language": "python",
   "name": "python3"
  },
  "language_info": {
   "codemirror_mode": {
    "name": "ipython",
    "version": 3
   },
   "file_extension": ".py",
   "mimetype": "text/x-python",
   "name": "python",
   "nbconvert_exporter": "python",
   "pygments_lexer": "ipython3",
   "version": "3.9.21"
  }
 },
 "nbformat": 4,
 "nbformat_minor": 5
}
