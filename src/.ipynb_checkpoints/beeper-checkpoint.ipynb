{
 "cells": [
  {
   "cell_type": "code",
   "execution_count": 9,
   "id": "cfd64228-4bca-4f2d-a63c-4788bfe20e41",
   "metadata": {},
   "outputs": [],
   "source": [
    "def beeper(delay=4, sound_file='oriental.mp3'):\n",
    "    import time\n",
    "    from playsound import playsound\n",
    "\n",
    "    time.sleep(delay)\n",
    "\n",
    "    try:\n",
    "        playsound(sound_file)\n",
    "    except Exception as e:\n",
    "        print(f\"Error playing sound: {e}\")\n",
    "        print(f\"Make sure '{sound_file}' exists or provide the full path.\")\n",
    "\n",
    "    print(\"Process complete!\")"
   ]
  }
 ],
 "metadata": {
  "kernelspec": {
   "display_name": "Python 3 (ipykernel)",
   "language": "python",
   "name": "python3"
  },
  "language_info": {
   "codemirror_mode": {
    "name": "ipython",
    "version": 3
   },
   "file_extension": ".py",
   "mimetype": "text/x-python",
   "name": "python",
   "nbconvert_exporter": "python",
   "pygments_lexer": "ipython3",
   "version": "3.9.21"
  }
 },
 "nbformat": 4,
 "nbformat_minor": 5
}
