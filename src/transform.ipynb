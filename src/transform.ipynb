{
 "cells": [
  {
   "cell_type": "code",
   "execution_count": 2,
   "id": "53bba419-3604-496f-8fac-0fb226a1ff6b",
   "metadata": {},
   "outputs": [
    {
     "name": "stdout",
     "output_type": "stream",
     "text": [
      " Total rows: 20649\n",
      " Preview:\n",
      "  country country_name   indicator              indicator_name  year     value\n",
      "0      AF  Afghanistan  GFDD.EI.03  Return on Assets (ROA) (%)  2021  79.01166\n",
      "1      AF  Afghanistan  GFDD.EI.03  Return on Assets (ROA) (%)  2020  60.56100\n",
      "2      AF  Afghanistan  GFDD.EI.03  Return on Assets (ROA) (%)  2019  57.19835\n",
      "3      AF  Afghanistan  GFDD.EI.03  Return on Assets (ROA) (%)  2018  59.15955\n",
      "4      AF  Afghanistan  GFDD.EI.03  Return on Assets (ROA) (%)  2017  53.93527\n"
     ]
    }
   ],
   "source": [
    "import pandas as pd\n",
    "\n",
    "df = pd.read_csv(\"esg_risk_data.csv\")\n",
    "print(f\" Total rows: {df.shape[0]}\")\n",
    "print(f\" Preview:\")\n",
    "print(df.head())\n"
   ]
  },
  {
   "cell_type": "code",
   "execution_count": null,
   "id": "aded0fba-b1bc-4ace-90a3-77620fac7269",
   "metadata": {},
   "outputs": [],
   "source": []
  }
 ],
 "metadata": {
  "kernelspec": {
   "display_name": "Python 3 (ipykernel)",
   "language": "python",
   "name": "python3"
  },
  "language_info": {
   "codemirror_mode": {
    "name": "ipython",
    "version": 3
   },
   "file_extension": ".py",
   "mimetype": "text/x-python",
   "name": "python",
   "nbconvert_exporter": "python",
   "pygments_lexer": "ipython3",
   "version": "3.9.21"
  }
 },
 "nbformat": 4,
 "nbformat_minor": 5
}
