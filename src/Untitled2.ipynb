{
 "cells": [
  {
   "cell_type": "code",
   "execution_count": 9,
   "id": "cf5cb90a-513b-461b-837f-26c4ee014bf3",
   "metadata": {},
   "outputs": [
    {
     "ename": "NameError",
     "evalue": "name 'oriental' is not defined",
     "output_type": "error",
     "traceback": [
      "\u001b[1;31m---------------------------------------------------------------------------\u001b[0m",
      "\u001b[1;31mNameError\u001b[0m                                 Traceback (most recent call last)",
      "Cell \u001b[1;32mIn[9], line 23\u001b[0m\n\u001b[0;32m     16\u001b[0m     call \u001b[38;5;241m=\u001b[39m client\u001b[38;5;241m.\u001b[39mcalls\u001b[38;5;241m.\u001b[39mcreate(\n\u001b[0;32m     17\u001b[0m         to\u001b[38;5;241m=\u001b[39mmy_number,\n\u001b[0;32m     18\u001b[0m         from_\u001b[38;5;241m=\u001b[39mtwilio_number,\n\u001b[0;32m     19\u001b[0m         url\u001b[38;5;241m=\u001b[39moriental\u001b[38;5;241m.\u001b[39mmp3  \u001b[38;5;66;03m# Twilio-hosted message\u001b[39;00m\n\u001b[0;32m     20\u001b[0m     )\n\u001b[0;32m     22\u001b[0m     \u001b[38;5;28mprint\u001b[39m(\u001b[38;5;124mf\u001b[39m\u001b[38;5;124m\"\u001b[39m\u001b[38;5;124mCall initiated! Call SID: \u001b[39m\u001b[38;5;132;01m{\u001b[39;00mcall\u001b[38;5;241m.\u001b[39msid\u001b[38;5;132;01m}\u001b[39;00m\u001b[38;5;124m\"\u001b[39m)\n\u001b[1;32m---> 23\u001b[0m \u001b[43mcallnum\u001b[49m\u001b[43m(\u001b[49m\u001b[43m)\u001b[49m\n",
      "Cell \u001b[1;32mIn[9], line 19\u001b[0m, in \u001b[0;36mcallnum\u001b[1;34m()\u001b[0m\n\u001b[0;32m     13\u001b[0m client \u001b[38;5;241m=\u001b[39m Client(account_sid, auth_token)\n\u001b[0;32m     15\u001b[0m \u001b[38;5;66;03m# Make the call\u001b[39;00m\n\u001b[0;32m     16\u001b[0m call \u001b[38;5;241m=\u001b[39m client\u001b[38;5;241m.\u001b[39mcalls\u001b[38;5;241m.\u001b[39mcreate(\n\u001b[0;32m     17\u001b[0m     to\u001b[38;5;241m=\u001b[39mmy_number,\n\u001b[0;32m     18\u001b[0m     from_\u001b[38;5;241m=\u001b[39mtwilio_number,\n\u001b[1;32m---> 19\u001b[0m     url\u001b[38;5;241m=\u001b[39m\u001b[43moriental\u001b[49m\u001b[38;5;241m.\u001b[39mmp3  \u001b[38;5;66;03m# Twilio-hosted message\u001b[39;00m\n\u001b[0;32m     20\u001b[0m )\n\u001b[0;32m     22\u001b[0m \u001b[38;5;28mprint\u001b[39m(\u001b[38;5;124mf\u001b[39m\u001b[38;5;124m\"\u001b[39m\u001b[38;5;124mCall initiated! Call SID: \u001b[39m\u001b[38;5;132;01m{\u001b[39;00mcall\u001b[38;5;241m.\u001b[39msid\u001b[38;5;132;01m}\u001b[39;00m\u001b[38;5;124m\"\u001b[39m)\n",
      "\u001b[1;31mNameError\u001b[0m: name 'oriental' is not defined"
     ]
    }
   ],
   "source": [
    "def callnum():\n",
    "    from twilio.rest import Client\n",
    "    \n",
    "    # Your Twilio credentials\n",
    "    account_sid = \"AC86f6cf67b20e78413cd99909a1e66cac\"\n",
    "    auth_token = \"5b4179414b38b04d7cdd3bbf7b8e9a9e\"\n",
    "    twilio_number = \"+19785889599\"\n",
    "    \n",
    "    # Your mobile number\n",
    "    my_number = \"+4915206707993\"  # Replace with your actual number\n",
    "    \n",
    "    # Initialize Twilio client\n",
    "    client = Client(account_sid, auth_token)\n",
    "    \n",
    "    # Make the call\n",
    "    call = client.calls.create(\n",
    "        to=my_number,\n",
    "        from_=twilio_number,\n",
    "        url=oriental.mp3  # Twilio-hosted message\n",
    "    )\n",
    "    \n",
    "    print(f\"Call initiated! Call SID: {call.sid}\")\n",
    "callnum()"
   ]
  }
 ],
 "metadata": {
  "kernelspec": {
   "display_name": "Python 3 (ipykernel)",
   "language": "python",
   "name": "python3"
  },
  "language_info": {
   "codemirror_mode": {
    "name": "ipython",
    "version": 3
   },
   "file_extension": ".py",
   "mimetype": "text/x-python",
   "name": "python",
   "nbconvert_exporter": "python",
   "pygments_lexer": "ipython3",
   "version": "3.9.21"
  }
 },
 "nbformat": 4,
 "nbformat_minor": 5
}
