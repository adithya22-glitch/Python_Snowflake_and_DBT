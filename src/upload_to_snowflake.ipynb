{
 "cells": [
  {
   "cell_type": "code",
   "execution_count": 1,
   "id": "aefb1e27-119b-4916-a47a-b64c125e6811",
   "metadata": {},
   "outputs": [
    {
     "name": "stdout",
     "output_type": "stream",
     "text": [
      "Fetching indicator: Return on Assets (ROA) (%)\n",
      "Fetching indicator: Capital to Risk-Weighted Assets (%)\n",
      "Fetching indicator: Capital to Assets Ratio (%)\n",
      "Fetching indicator: Return on Equity (ROE) (%)\n",
      "Fetching indicator: Interest Income to Total Income (%)\n",
      "Collected 20649 rows of ESG/Risk data and saved to 'esg_risk_data.csv'\n",
      "Merged dataset saved with 20649 rows.\n",
      "Process complete!\n",
      " Total rows: 20649\n",
      " Preview:\n",
      "  country country_name   indicator              indicator_name  year     value\n",
      "0      AF  Afghanistan  GFDD.EI.03  Return on Assets (ROA) (%)  2021  79.01166\n",
      "1      AF  Afghanistan  GFDD.EI.03  Return on Assets (ROA) (%)  2020  60.56100\n",
      "2      AF  Afghanistan  GFDD.EI.03  Return on Assets (ROA) (%)  2019  57.19835\n",
      "3      AF  Afghanistan  GFDD.EI.03  Return on Assets (ROA) (%)  2018  59.15955\n",
      "4      AF  Afghanistan  GFDD.EI.03  Return on Assets (ROA) (%)  2017  53.93527\n"
     ]
    }
   ],
   "source": [
    "%run beeper.ipynb\n",
    "%run fetch_data.ipynb\n",
    "%run transform.ipynb"
   ]
  },
  {
   "cell_type": "code",
   "execution_count": 2,
   "id": "db283b8c-7e8a-414b-81eb-a55ef05ca5a5",
   "metadata": {
    "scrolled": true
   },
   "outputs": [
    {
     "name": "stdout",
     "output_type": "stream",
     "text": [
      " Connection successful\n",
      " Uploaded 20649 records to BANK_DATA.RAW_DATA.BANK_ESG_RISK\n"
     ]
    }
   ],
   "source": [
    "# from dotenv import load_dotenv\n",
    "\n",
    "import keyring\n",
    "from snowflake.snowpark import Session\n",
    "\n",
    "connection_parameters = {\n",
    "    \"account\": \"XOUIBXC-YI47609\",\n",
    "    \"user\": \"ADITHYA\",\n",
    "    \"password\": keyring.get_password(\"snowflake\", \"ADITHYA\"),\n",
    "    \"role\": \"ACCOUNTADMIN\",\n",
    "    \"warehouse\": \"COMPUTE_WH\",\n",
    "    \"database\": \"BANK_DATA\",\n",
    "    \"schema\": \"RAW_DATA\"\n",
    "}\n",
    "\n",
    "session = Session.builder.configs(connection_parameters).create()\n",
    "print(\" Connection successful\")\n",
    "\n",
    "session.write_pandas(df, table_name=\"BANK_ESG_RISK\", auto_create_table=True, overwrite=True)\n",
    "\n",
    "print(f\" Uploaded {len(df)} records to BANK_DATA.RAW_DATA.BANK_ESG_RISK\")\n"
   ]
  },
  {
   "cell_type": "code",
   "execution_count": 3,
   "id": "4b67f803-127a-460e-9e19-1e1ea218bcf3",
   "metadata": {},
   "outputs": [
    {
     "name": "stdout",
     "output_type": "stream",
     "text": [
      "Created view: stg_esg_risk\n"
     ]
    }
   ],
   "source": [
    "create_view_sql = \"\"\"\n",
    "create or replace view RAW_DATA.stg_esg_risk as\n",
    "select\n",
    "  \"country\",\n",
    "  \"country_name\",\n",
    "  \"indicator\",\n",
    "  \"indicator_name\",\n",
    "  try_cast(\"year\" as int) as year,\n",
    "  try_cast(\"value\" as float) as value\n",
    "from RAW_DATA.BANK_ESG_RISK\n",
    "where \"value\" is not null\n",
    "\"\"\"\n",
    "session.sql(create_view_sql).collect()\n",
    "print(\"Created view: stg_esg_risk\")\n"
   ]
  },
  {
   "cell_type": "code",
   "execution_count": 4,
   "id": "9d8d84bc-ff35-4c24-a53d-3504561b0c2e",
   "metadata": {},
   "outputs": [
    {
     "name": "stdout",
     "output_type": "stream",
     "text": [
      "['\"country\"', '\"country_name\"', '\"indicator\"', '\"indicator_name\"', 'YEAR', 'VALUE']\n",
      "Created view: fct_esg_summary\n"
     ]
    }
   ],
   "source": [
    "print(session.table(\"RAW_DATA.stg_esg_risk\").columns)\n",
    "create_fact_view_sql = \"\"\"\n",
    "create or replace view RAW_DATA.fct_esg_summary as\n",
    "select\n",
    "  \"country\",\n",
    "  YEAR as year,\n",
    "  \"indicator_name\",\n",
    "  avg(VALUE) as avg_value\n",
    "from RAW_DATA.stg_esg_risk\n",
    "where VALUE is not null\n",
    "group by \"country\", YEAR, \"indicator_name\"\n",
    "\"\"\"\n",
    "session.sql(create_fact_view_sql).collect()\n",
    "print(\"Created view: fct_esg_summary\")\n"
   ]
  },
  {
   "cell_type": "code",
   "execution_count": 5,
   "id": "1b173d3f-4e8b-4d60-837d-98d36d7fc7f3",
   "metadata": {},
   "outputs": [
    {
     "name": "stdout",
     "output_type": "stream",
     "text": [
      "    country           country_name  RECORD_COUNT\n",
      "0        MY               Malaysia           151\n",
      "1        BR                 Brazil           151\n",
      "2        NO                 Norway           151\n",
      "3        IN                  India           151\n",
      "4        PK               Pakistan           151\n",
      "..      ...                    ...           ...\n",
      "188      TL            Timor-Leste            20\n",
      "189      XK                 Kosovo            14\n",
      "190      ST  São Tomé and Principe            12\n",
      "191      MC                 Monaco             9\n",
      "192      KP       Korea, Dem. Rep.             3\n",
      "\n",
      "[193 rows x 3 columns]\n"
     ]
    }
   ],
   "source": [
    "query = \"\"\"\n",
    "SELECT \"country\", \"country_name\", COUNT(*) as record_count\n",
    "FROM RAW_DATA.BANK_ESG_RISK\n",
    "GROUP BY \"country\", \"country_name\"\n",
    "ORDER BY record_count DESC\n",
    "LIMIT 1000\n",
    "\"\"\"\n",
    "df = session.sql(query).to_pandas()\n",
    "print(df)\n"
   ]
  },
  {
   "cell_type": "code",
   "execution_count": 6,
   "id": "e6d2b232-caf8-42fe-9bad-cdc833311ab0",
   "metadata": {},
   "outputs": [
    {
     "name": "stdout",
     "output_type": "stream",
     "text": [
      "  country          country_name  NUM_INDICATORS  NUM_YEARS   AVG_VALUE  \\\n",
      "0      LU            Luxembourg               5         61  103.953265   \n",
      "1      KN   St. Kitts and Nevis               2         43   88.918177   \n",
      "2      HK  Hong Kong SAR, China               5         31   82.380355   \n",
      "3      VU               Vanuatu               2         43   72.366350   \n",
      "4      JP                 Japan               5         62   71.661989   \n",
      "\n",
      "   MIN_VALUE  MAX_VALUE  \n",
      "0   0.100000   462.1295  \n",
      "1  55.415290   138.6620  \n",
      "2   0.510000   415.7495  \n",
      "3   4.771505   123.7953  \n",
      "4   0.441660   259.6056  \n"
     ]
    }
   ],
   "source": [
    "query = \"\"\"\n",
    "SELECT \n",
    "    \"country\",\n",
    "    \"country_name\",\n",
    "    COUNT(DISTINCT \"indicator\") AS num_indicators,\n",
    "    COUNT(DISTINCT \"year\") AS num_years,\n",
    "    AVG(\"value\") AS avg_value,\n",
    "    MIN(\"value\") AS min_value,\n",
    "    MAX(\"value\") AS max_value\n",
    "FROM RAW_DATA.BANK_ESG_RISK\n",
    "WHERE \"value\" IS NOT NULL\n",
    "GROUP BY \"country\", \"country_name\"\n",
    "ORDER BY avg_value DESC\n",
    "\"\"\"\n",
    "df_country_stats = session.sql(query).to_pandas()\n",
    "print(df_country_stats.head())\n"
   ]
  },
  {
   "cell_type": "code",
   "execution_count": 7,
   "id": "188f09fa-b687-4a25-b9db-0b91a86d9577",
   "metadata": {},
   "outputs": [
    {
     "name": "stdout",
     "output_type": "stream",
     "text": [
      "Total countries: 193\n",
      "  country          country_name  NUM_INDICATORS  NUM_YEARS   AVG_VALUE  \\\n",
      "0      LU            Luxembourg               5         61  103.953265   \n",
      "1      HK  Hong Kong SAR, China               5         31   82.380355   \n",
      "2      JP                 Japan               5         62   71.661989   \n",
      "3      LB               Lebanon               5         34   59.315126   \n",
      "4      MO      Macao SAR, China               5         38   58.203685   \n",
      "5      CH           Switzerland               5         52   50.713750   \n",
      "6      MT                 Malta               5         52   49.564309   \n",
      "7      MR            Mauritania               5         52   47.575744   \n",
      "8      CY                Cyprus               5         47   43.503117   \n",
      "9      MY              Malaysia               5         62   42.921575   \n",
      "\n",
      "   MIN_VALUE  MAX_VALUE  \n",
      "0   0.100000   462.1295  \n",
      "1   0.510000   415.7495  \n",
      "2   0.441660   259.6056  \n",
      "3   1.154261   250.3682  \n",
      "4   0.092335   346.5976  \n",
      "5   0.300000   167.3852  \n",
      "6   1.290584   147.2210  \n",
      "7   2.632909   157.5577  \n",
      "8   1.540438   166.7066  \n",
      "9   0.814250   131.0874  \n"
     ]
    }
   ],
   "source": [
    "query = \"\"\"\n",
    "SELECT \n",
    "    \"country\",\n",
    "    \"country_name\",\n",
    "    COUNT(DISTINCT \"indicator\") AS num_indicators,\n",
    "    COUNT(DISTINCT \"year\") AS num_years,\n",
    "    AVG(\"value\") AS avg_value,\n",
    "    MIN(\"value\") AS min_value,\n",
    "    MAX(\"value\") AS max_value\n",
    "FROM RAW_DATA.BANK_ESG_RISK\n",
    "GROUP BY \"country\", \"country_name\"\n",
    "ORDER BY num_indicators DESC, avg_value DESC\n",
    "\"\"\"\n",
    "df_all_countries = session.sql(query).to_pandas()\n",
    "print(f\"Total countries: {len(df_all_countries)}\")\n",
    "print(df_all_countries.head(10))\n"
   ]
  },
  {
   "cell_type": "code",
   "execution_count": 8,
   "id": "58aae9f6-3fac-4a74-8ba2-c34f247f8185",
   "metadata": {},
   "outputs": [
    {
     "name": "stdout",
     "output_type": "stream",
     "text": [
      "    country           country_name  RECORD_COUNT\n",
      "0        MY               Malaysia           151\n",
      "1        BR                 Brazil           151\n",
      "2        NO                 Norway           151\n",
      "3        IN                  India           151\n",
      "4        PK               Pakistan           151\n",
      "..      ...                    ...           ...\n",
      "188      TL            Timor-Leste            20\n",
      "189      XK                 Kosovo            14\n",
      "190      ST  São Tomé and Principe            12\n",
      "191      MC                 Monaco             9\n",
      "192      KP       Korea, Dem. Rep.             3\n",
      "\n",
      "[193 rows x 3 columns]\n"
     ]
    }
   ],
   "source": [
    "clean_sql = \"\"\"\n",
    "SELECT *\n",
    "FROM RAW_DATA.STAGING_BANK_ESG_RISK\n",
    "\"\"\"\n",
    "clean_sql_sess = session.sql(clean_sql).to_pandas()\n",
    "print(clean_sql_sess)\n"
   ]
  },
  {
   "cell_type": "code",
   "execution_count": 9,
   "id": "903d8696-6590-4e12-ad39-d0bd22a62d2c",
   "metadata": {},
   "outputs": [
    {
     "data": {
      "text/plain": [
       "['\"country\"', '\"country_name\"', 'RECORD_COUNT']"
      ]
     },
     "execution_count": 9,
     "metadata": {},
     "output_type": "execute_result"
    }
   ],
   "source": [
    "session.table(\"RAW_DATA.STAGING_BANK_ESG_RISK\").columns\n",
    "# Output: ['\"country\"', '\"country_name\"', 'RECORD_COUNT']\n"
   ]
  },
  {
   "cell_type": "code",
   "execution_count": 10,
   "id": "e0cdf890-6269-485c-a43a-3b7683e9443a",
   "metadata": {},
   "outputs": [
    {
     "name": "stdout",
     "output_type": "stream",
     "text": [
      "Cleaned and reloaded data into BANK_ESG_RISK.\n"
     ]
    }
   ],
   "source": [
    "clean_sql = \"\"\"\n",
    "CREATE OR REPLACE TABLE RAW_DATA.BANK_ESG_RISK AS\n",
    "SELECT DISTINCT *\n",
    "FROM RAW_DATA.STAGING_BANK_ESG_RISK\n",
    "\"\"\"\n",
    "session.sql(clean_sql).collect()\n",
    "print(\"Cleaned and reloaded data into BANK_ESG_RISK.\")\n"
   ]
  },
  {
   "cell_type": "code",
   "execution_count": 12,
   "id": "16e46fb6-0bb2-409b-8b5f-cec541d55787",
   "metadata": {},
   "outputs": [
    {
     "name": "stdout",
     "output_type": "stream",
     "text": [
      " Connection successful\n",
      " Uploaded 20442 enriched records to Snowflake.\n"
     ]
    }
   ],
   "source": [
    "import pandas as pd\n",
    "import keyring\n",
    "from snowflake.snowpark import Session\n",
    "\n",
    "connection_parameters = {\n",
    "    \"account\": \"XOUIBXC-YI47609\",\n",
    "    \"user\": \"ADITHYA\",\n",
    "    \"password\": keyring.get_password(\"snowflake\", \"ADITHYA\"),\n",
    "    \"role\": \"ACCOUNTADMIN\",\n",
    "    \"warehouse\": \"COMPUTE_WH\",\n",
    "    \"database\": \"BANK_DATA\",\n",
    "    \"schema\": \"RAW_DATA\"\n",
    "}\n",
    "\n",
    "session = Session.builder.configs(connection_parameters).create()\n",
    "print(\" Connection successful\")\n",
    "\n",
    "# Upload enriched data\n",
    "session.write_pandas(df, table_name=\"BANK_ESG_RISK\", auto_create_table=True, overwrite=True)\n",
    "\n",
    "print(f\" Uploaded {len(df)} enriched records to Snowflake.\")\n"
   ]
  },
  {
   "cell_type": "code",
   "execution_count": 13,
   "id": "0d0d321c-1eed-4447-9e07-bca81023bf2f",
   "metadata": {},
   "outputs": [
    {
     "name": "stdout",
     "output_type": "stream",
     "text": [
      "           country_name              indicator_name  AVG_VALUE\n",
      "0           South Sudan  Return on Assets (ROA) (%)  78.885373\n",
      "1               Andorra  Return on Assets (ROA) (%)  74.772366\n",
      "2   St. Kitts and Nevis  Return on Assets (ROA) (%)  71.918460\n",
      "3           Congo, Rep.  Return on Assets (ROA) (%)  68.057090\n",
      "4           Switzerland  Return on Assets (ROA) (%)  67.536580\n",
      "5                 Sudan  Return on Assets (ROA) (%)  61.491908\n",
      "6                Monaco  Return on Assets (ROA) (%)  58.587850\n",
      "7                  Togo  Return on Assets (ROA) (%)  58.155645\n",
      "8                  Iraq  Return on Assets (ROA) (%)  57.064007\n",
      "9            Uzbekistan  Return on Assets (ROA) (%)  56.813441\n",
      "10   Russian Federation  Return on Assets (ROA) (%)  56.502062\n",
      "11             Zimbabwe  Return on Assets (ROA) (%)  56.459841\n",
      "12               France  Return on Assets (ROA) (%)  55.577086\n",
      "13     Congo, Dem. Rep.  Return on Assets (ROA) (%)  55.046534\n",
      "14               Guinea  Return on Assets (ROA) (%)  54.879284\n",
      "15               Serbia  Return on Assets (ROA) (%)  54.754620\n",
      "16                Libya  Return on Assets (ROA) (%)  54.750201\n",
      "17           Luxembourg  Return on Assets (ROA) (%)  54.500700\n",
      "18           Mauritania  Return on Assets (ROA) (%)  53.587812\n",
      "19            Argentina  Return on Assets (ROA) (%)  53.237247\n"
     ]
    }
   ],
   "source": [
    "query = \"\"\"\n",
    "SELECT \"country_name\", \"indicator_name\", AVG(\"value\") AS avg_value\n",
    "FROM RAW_DATA.BANK_ESG_RISK\n",
    "WHERE \"indicator_name\" IN ('Return on Assets (ROA) (%)', 'Return on Equity (ROE) (%)')\n",
    "GROUP BY \"country_name\", \"indicator_name\"\n",
    "ORDER BY avg_value DESC\n",
    "LIMIT 20\n",
    "\"\"\"\n",
    "df_top_returns = session.sql(query).to_pandas()\n",
    "print(df_top_returns)\n"
   ]
  },
  {
   "cell_type": "code",
   "execution_count": 14,
   "id": "c6c5f0a3-f119-43d0-9b92-f5359fa126e5",
   "metadata": {},
   "outputs": [
    {
     "data": {
      "text/plain": [
       "['\"country\"',\n",
       " '\"country_name\"',\n",
       " '\"indicator\"',\n",
       " '\"indicator_name\"',\n",
       " '\"year\"',\n",
       " '\"value\"',\n",
       " '\"gdp\"',\n",
       " '\"population\"']"
      ]
     },
     "execution_count": 14,
     "metadata": {},
     "output_type": "execute_result"
    }
   ],
   "source": [
    "session.table(\"RAW_DATA.BANK_ESG_RISK\").columns\n"
   ]
  },
  {
   "cell_type": "code",
   "execution_count": 15,
   "id": "3768e09c-76e1-41cd-a558-cd092274b853",
   "metadata": {},
   "outputs": [],
   "source": [
    "query = \"\"\"\n",
    "SELECT \n",
    "    \"country_name\",\n",
    "    \"indicator_name\",\n",
    "    AVG(\"value\") AS avg_esg,\n",
    "    AVG(\"gdp\") AS avg_gdp\n",
    "FROM RAW_DATA.BANK_ESG_RISK\n",
    "WHERE \"gdp\" IS NOT NULL AND \"value\" IS NOT NULL\n",
    "GROUP BY \"country_name\", \"indicator_name\"\n",
    "ORDER BY avg_gdp DESC\n",
    "LIMIT 50\n",
    "\"\"\"\n",
    "df_gdp_esg = session.sql(query).to_pandas()\n"
   ]
  },
  {
   "cell_type": "code",
   "execution_count": 16,
   "id": "6253a02c-933d-4b49-9fb9-e3812bff7c11",
   "metadata": {},
   "outputs": [
    {
     "data": {
      "image/png": "[encoded data removed]",
      "text/plain": [
       "<Figure size 1200x600 with 1 Axes>"
      ]
     },
     "metadata": {},
     "output_type": "display_data"
    }
   ],
   "source": [
    "import seaborn as sns\n",
    "import matplotlib.pyplot as plt\n",
    "\n",
    "plt.figure(figsize=(12, 6))\n",
    "sns.scatterplot(data=df_gdp_esg, x=\"AVG_GDP\", y=\"AVG_ESG\", hue=\"indicator_name\")\n",
    "plt.title(\"Average ESG Indicator vs GDP (Top 50 Countries)\")\n",
    "plt.xlabel(\"Average GDP\")\n",
    "plt.ylabel(\"Average ESG Value\")\n",
    "plt.tight_layout()\n",
    "plt.show()\n"
   ]
  },
  {
   "cell_type": "code",
   "execution_count": 17,
   "id": "fc55023c-1920-42a4-851f-d816eb1bbeef",
   "metadata": {},
   "outputs": [
    {
     "name": "stdout",
     "output_type": "stream",
     "text": [
      "             country_name     avg_esg\n",
      "103            Luxembourg  103.953265\n",
      "158   St. Kitts and Nevis   88.918177\n",
      "77   Hong Kong SAR, China   82.380355\n",
      "184               Vanuatu   72.366350\n",
      "88                  Japan   71.661989\n",
      "52               Dominica   63.196234\n",
      "187    West Bank and Gaza   60.598244\n",
      "98                Lebanon   59.315126\n",
      "104      Macao SAR, China   58.203685\n",
      "70                Grenada   58.089369\n"
     ]
    }
   ],
   "source": [
    "top_esg = df.groupby(\"country_name\")[\"value\"].mean().reset_index(name=\"avg_esg\")\n",
    "top_esg = top_esg.sort_values(\"avg_esg\", ascending=False).head(10)\n",
    "print(top_esg)\n"
   ]
  },
  {
   "cell_type": "code",
   "execution_count": 18,
   "id": "0d3a5fa5-8982-4714-b310-87c138a73aa8",
   "metadata": {},
   "outputs": [
    {
     "name": "stdout",
     "output_type": "stream",
     "text": [
      "                        indicator_name  volatility\n",
      "2  Interest Income to Total Income (%)   40.627851\n",
      "3           Return on Assets (ROA) (%)   13.776979\n",
      "0          Capital to Assets Ratio (%)    9.750630\n",
      "1  Capital to Risk-Weighted Assets (%)    7.574944\n",
      "4           Return on Equity (ROE) (%)    3.042572\n"
     ]
    }
   ],
   "source": [
    "volatility = df.groupby(\"indicator_name\")[\"value\"].std().reset_index(name=\"volatility\")\n",
    "volatility = volatility.sort_values(\"volatility\", ascending=False)\n",
    "print(volatility)\n"
   ]
  },
  {
   "cell_type": "code",
   "execution_count": 19,
   "id": "8593473f-feeb-4441-91f3-1d059f9b4cc1",
   "metadata": {},
   "outputs": [
    {
     "name": "stdout",
     "output_type": "stream",
     "text": [
      "                        indicator_name  gdp_esg_correlation\n",
      "2  Interest Income to Total Income (%)             0.180581\n",
      "1  Capital to Risk-Weighted Assets (%)            -0.148120\n",
      "4           Return on Equity (ROE) (%)            -0.108546\n",
      "0          Capital to Assets Ratio (%)             0.100936\n",
      "3           Return on Assets (ROA) (%)            -0.010750\n"
     ]
    },
    {
     "name": "stderr",
     "output_type": "stream",
     "text": [
      "C:\\Users\\riber\\AppData\\Local\\Temp\\ipykernel_23268\\1036076456.py:2: DeprecationWarning: DataFrameGroupBy.apply operated on the grouping columns. This behavior is deprecated, and in a future version of pandas the grouping columns will be excluded from the operation. Either pass `include_groups=False` to exclude the groupings or explicitly select the grouping columns after groupby to silence this warning.\n",
      "  corr_result = correlations.groupby(\"indicator_name\").apply(\n"
     ]
    }
   ],
   "source": [
    "correlations = df[[\"indicator_name\", \"value\", \"gdp\"]].dropna()\n",
    "corr_result = correlations.groupby(\"indicator_name\").apply(\n",
    "    lambda x: x[\"value\"].corr(x[\"gdp\"])\n",
    ").reset_index(name=\"gdp_esg_correlation\")\n",
    "corr_result = corr_result.sort_values(\"gdp_esg_correlation\", key=abs, ascending=False)\n",
    "print(corr_result)\n"
   ]
  },
  {
   "cell_type": "code",
   "execution_count": 20,
   "id": "24eb1b99-e381-4e1e-9bbc-acea00493342",
   "metadata": {},
   "outputs": [
    {
     "name": "stdout",
     "output_type": "stream",
     "text": [
      "             country_name                       indicator_name  improvement\n",
      "452            Luxembourg  Interest Income to Total Income (%)   389.474710\n",
      "333  Hong Kong SAR, China  Interest Income to Total Income (%)   233.301400\n",
      "384                 Japan  Interest Income to Total Income (%)   215.820530\n",
      "457      Macao SAR, China  Interest Income to Total Income (%)   205.983590\n",
      "404           Korea, Rep.  Interest Income to Total Income (%)   155.075739\n",
      "137              Cambodia  Interest Income to Total Income (%)   128.539806\n",
      "496             Mauritius  Interest Income to Total Income (%)   126.992740\n",
      "751              Thailand  Interest Income to Total Income (%)   122.809800\n",
      "537                 Nepal  Interest Income to Total Income (%)   107.591856\n",
      "472              Malaysia  Interest Income to Total Income (%)   107.056030\n"
     ]
    }
   ],
   "source": [
    "improvement = df.dropna(subset=[\"value\", \"year\"]).copy()\n",
    "improvement[\"year\"] = improvement[\"year\"].astype(int)\n",
    "first = improvement.sort_values(\"year\").groupby([\"country_name\", \"indicator_name\"]).first().reset_index()\n",
    "last = improvement.sort_values(\"year\").groupby([\"country_name\", \"indicator_name\"]).last().reset_index()\n",
    "\n",
    "change = pd.merge(last, first, on=[\"country_name\", \"indicator_name\"], suffixes=(\"_last\", \"_first\"))\n",
    "change[\"improvement\"] = change[\"value_last\"] - change[\"value_first\"]\n",
    "top_improvements = change.sort_values(\"improvement\", ascending=False).head(10)\n",
    "print(top_improvements[[\"country_name\", \"indicator_name\", \"improvement\"]])\n"
   ]
  },
  {
   "cell_type": "code",
   "execution_count": 21,
   "id": "bec576d0-182f-42f0-bedb-03d8e6a24610",
   "metadata": {},
   "outputs": [
    {
     "name": "stdout",
     "output_type": "stream",
     "text": [
      "                       country_name  esg_per_capita\n",
      "144                      San Marino        0.094871\n",
      "158             St. Kitts and Nevis        0.087933\n",
      "5               Antigua and Barbuda        0.043272\n",
      "52                         Dominica        0.040724\n",
      "148                      Seychelles        0.040136\n",
      "103                      Luxembourg        0.031375\n",
      "70                          Grenada        0.027834\n",
      "160  St. Vincent and the Grenadines        0.025275\n",
      "8                             Aruba        0.022353\n",
      "184                         Vanuatu        0.018228\n"
     ]
    },
    {
     "name": "stderr",
     "output_type": "stream",
     "text": [
      "C:\\Users\\riber\\AppData\\Local\\Temp\\ipykernel_23268\\1600975142.py:1: DeprecationWarning: DataFrameGroupBy.apply operated on the grouping columns. This behavior is deprecated, and in a future version of pandas the grouping columns will be excluded from the operation. Either pass `include_groups=False` to exclude the groupings or explicitly select the grouping columns after groupby to silence this warning.\n",
      "  esg_per_capita = df.groupby(\"country_name\").apply(\n"
     ]
    }
   ],
   "source": [
    "esg_per_capita = df.groupby(\"country_name\").apply(\n",
    "    lambda x: x[\"value\"].sum() / x[\"population\"].mean()\n",
    ").reset_index(name=\"esg_per_capita\")\n",
    "\n",
    "esg_per_capita = esg_per_capita.sort_values(\"esg_per_capita\", ascending=False).head(10)\n",
    "print(esg_per_capita)\n"
   ]
  },
  {
   "cell_type": "code",
   "execution_count": 22,
   "id": "f45f5711-c067-46a1-b06d-b3fda8d35638",
   "metadata": {},
   "outputs": [
    {
     "name": "stdout",
     "output_type": "stream",
     "text": [
      " Connection successful\n",
      " Exported: esg_summary_export.csv\n",
      " Exported: stg_esg_risk_export.csv\n",
      " Exported: bank_esg_risk_export.csv\n"
     ]
    }
   ],
   "source": [
    "from dotenv import load_dotenv\n",
    "\n",
    "import keyring\n",
    "from snowflake.snowpark import Session\n",
    "\n",
    "connection_parameters = {\n",
    "    \"account\": \"XOUIBXC-YI47609\",\n",
    "    \"user\": \"ADITHYA\",\n",
    "    \"password\": keyring.get_password(\"snowflake\", \"ADITHYA\"),\n",
    "    \"role\": \"ACCOUNTADMIN\",\n",
    "    \"warehouse\": \"COMPUTE_WH\",\n",
    "    \"database\": \"BANK_DATA\",\n",
    "    \"schema\": \"RAW_DATA\"\n",
    "}\n",
    "\n",
    "session = Session.builder.configs(connection_parameters).create()\n",
    "print(\" Connection successful\")\n",
    "\n",
    "# Create export folder if not exists\n",
    "os.makedirs(\"powerbi_exports\", exist_ok=True)\n",
    "\n",
    "# Export RAW_DATA.fct_esg_summary\n",
    "df_summary = session.table(\"RAW_DATA.fct_esg_summary\").to_pandas()\n",
    "df_summary.to_csv(\"powerbi_exports/esg_summary_export.csv\", index=False)\n",
    "print(\" Exported: esg_summary_export.csv\")\n",
    "\n",
    "# Export RAW_DATA.stg_esg_risk\n",
    "df_stg = session.table(\"RAW_DATA.stg_esg_risk\").to_pandas()\n",
    "df_stg.to_csv(\"powerbi_exports/stg_esg_risk_export.csv\", index=False)\n",
    "print(\" Exported: stg_esg_risk_export.csv\")\n",
    "\n",
    "# Export RAW_DATA.BANK_ESG_RISK\n",
    "df_bank = session.table(\"RAW_DATA.BANK_ESG_RISK\").to_pandas()\n",
    "df_bank.to_csv(\"powerbi_exports/bank_esg_risk_export.csv\", index=False)\n",
    "print(\" Exported: bank_esg_risk_export.csv\")\n",
    "\n",
    "# Alternative for live connection:\n",
    "# In Power BI Desktop > Get Data > Snowflake > Use same credentials as .env\n"
   ]
  },
  {
   "cell_type": "code",
   "execution_count": 23,
   "id": "c3b1bade-08e5-4a37-8f3a-02cdabeacfc5",
   "metadata": {},
   "outputs": [
    {
     "name": "stdout",
     "output_type": "stream",
     "text": [
      "Process complete!\n"
     ]
    }
   ],
   "source": []
  },
  {
   "cell_type": "code",
   "execution_count": 26,
   "id": "98fdcd1b-4cf7-49fd-8c56-7cc5c9d4df6d",
   "metadata": {},
   "outputs": [
    {
     "name": "stdout",
     "output_type": "stream",
     "text": [
      " Connection successful\n",
      "Exported: esg_summary_export.csv\n",
      "Exported: stg_esg_risk_export.csv\n",
      "Exported: bank_esg_risk_export.csv\n"
     ]
    }
   ],
   "source": [
    "# Step-by-step Python guidance to connect Snowflake to Power BI (indirect method)\n",
    "\n",
    "# There are 2 practical ways:\n",
    "# 1. Export dataframes to CSV and use Power BI Desktop to import them.\n",
    "# 2. Use the Snowflake connector directly in Power BI (best practice).\n",
    "\n",
    "# Here's how to make sure your Snowflake tables are ready for Power BI:\n",
    "\n",
    "import keyring\n",
    "from snowflake.snowpark import Session\n",
    "\n",
    "connection_parameters = {\n",
    "    \"account\": \"XOUIBXC-YI47609\",\n",
    "    \"user\": \"ADITHYA\",\n",
    "    \"password\": keyring.get_password(\"snowflake\", \"ADITHYA\"),\n",
    "    \"role\": \"ACCOUNTADMIN\",\n",
    "    \"warehouse\": \"COMPUTE_WH\",\n",
    "    \"database\": \"BANK_DATA\",\n",
    "    \"schema\": \"RAW_DATA\"\n",
    "}\n",
    "\n",
    "session = Session.builder.configs(connection_parameters).create()\n",
    "print(\" Connection successful\")\n",
    "\n",
    "session = Session.builder.configs(connection_parameters).create()\n",
    "\n",
    "# Create export folder if not exists\n",
    "os.makedirs(\"powerbi_exports\", exist_ok=True)\n",
    "\n",
    "# Export RAW_DATA.fct_esg_summary\n",
    "df_summary = session.table(\"RAW_DATA.fct_esg_summary\").to_pandas()\n",
    "df_summary.to_csv(\"powerbi_exports/esg_summary_export.csv\", index=False)\n",
    "print(\"Exported: esg_summary_export.csv\")\n",
    "\n",
    "# Export RAW_DATA.stg_esg_risk\n",
    "df_stg = session.table(\"RAW_DATA.stg_esg_risk\").to_pandas()\n",
    "df_stg.to_csv(\"powerbi_exports/stg_esg_risk_export.csv\", index=False)\n",
    "print(\"Exported: stg_esg_risk_export.csv\")\n",
    "\n",
    "# Export RAW_DATA.BANK_ESG_RISK\n",
    "df_bank = session.table(\"RAW_DATA.BANK_ESG_RISK\").to_pandas()\n",
    "df_bank.to_csv(\"powerbi_exports/bank_esg_risk_export.csv\", index=False)\n",
    "print(\"Exported: bank_esg_risk_export.csv\")\n",
    "\n",
    "# Alternative for live connection:\n",
    "# In Power BI Desktop > Get Data > Snowflake > Use same credentials as .env\n"
   ]
  },
  {
   "cell_type": "code",
   "execution_count": 28,
   "id": "c6eac930-7a44-472d-a786-d72516e82e23",
   "metadata": {},
   "outputs": [
    {
     "name": "stdout",
     "output_type": "stream",
     "text": [
      " Connection successful\n",
      "Exported: esg_summary_export.csv\n",
      "Exported: stg_esg_risk_export.csv\n",
      "Exported: bank_esg_risk_export.csv\n",
      "Exported: top_avg_esg.csv\n",
      "Exported: indicator_volatility.csv\n",
      "Exported: gdp_esg_correlation.csv\n",
      "Exported: top_improvements.csv\n",
      "Exported: esg_per_capita.csv\n"
     ]
    },
    {
     "name": "stderr",
     "output_type": "stream",
     "text": [
      "C:\\Users\\riber\\AppData\\Local\\Temp\\ipykernel_23268\\421139801.py:59: DeprecationWarning: DataFrameGroupBy.apply operated on the grouping columns. This behavior is deprecated, and in a future version of pandas the grouping columns will be excluded from the operation. Either pass `include_groups=False` to exclude the groupings or explicitly select the grouping columns after groupby to silence this warning.\n",
      "  corr_result = correlations.groupby(\"indicator_name\").apply(\n",
      "C:\\Users\\riber\\AppData\\Local\\Temp\\ipykernel_23268\\421139801.py:78: DeprecationWarning: DataFrameGroupBy.apply operated on the grouping columns. This behavior is deprecated, and in a future version of pandas the grouping columns will be excluded from the operation. Either pass `include_groups=False` to exclude the groupings or explicitly select the grouping columns after groupby to silence this warning.\n",
      "  esg_per_capita = df_bank.groupby(\"country_name\").apply(\n"
     ]
    }
   ],
   "source": [
    "# Step-by-step Python guidance to connect Snowflake to Power BI (indirect method)\n",
    "\n",
    "# There are 2 practical ways:\n",
    "# 1. Export dataframes to CSV and use Power BI Desktop to import them.\n",
    "# 2. Use the Snowflake connector directly in Power BI (best practice).\n",
    "\n",
    "# Here's how to make sure your Snowflake tables are ready for Power BI:\n",
    "\n",
    "import keyring\n",
    "from snowflake.snowpark import Session\n",
    "\n",
    "connection_parameters = {\n",
    "    \"account\": \"XOUIBXC-YI47609\",\n",
    "    \"user\": \"ADITHYA\",\n",
    "    \"password\": keyring.get_password(\"snowflake\", \"ADITHYA\"),\n",
    "    \"role\": \"ACCOUNTADMIN\",\n",
    "    \"warehouse\": \"COMPUTE_WH\",\n",
    "    \"database\": \"BANK_DATA\",\n",
    "    \"schema\": \"RAW_DATA\"\n",
    "}\n",
    "\n",
    "session = Session.builder.configs(connection_parameters).create()\n",
    "print(\" Connection successful\")\n",
    "\n",
    "# Create export folder if not exists\n",
    "os.makedirs(\"powerbi_exports\", exist_ok=True)\n",
    "\n",
    "# Export RAW_DATA.fct_esg_summary\n",
    "df_summary = session.table(\"RAW_DATA.fct_esg_summary\").to_pandas()\n",
    "df_summary.to_csv(\"powerbi_exports/esg_summary_export.csv\", index=False)\n",
    "print(\"Exported: esg_summary_export.csv\")\n",
    "\n",
    "# Export RAW_DATA.stg_esg_risk\n",
    "df_stg = session.table(\"RAW_DATA.stg_esg_risk\").to_pandas()\n",
    "df_stg.to_csv(\"powerbi_exports/stg_esg_risk_export.csv\", index=False)\n",
    "print(\"Exported: stg_esg_risk_export.csv\")\n",
    "\n",
    "# Export RAW_DATA.BANK_ESG_RISK\n",
    "df_bank = session.table(\"RAW_DATA.BANK_ESG_RISK\").to_pandas()\n",
    "df_bank.to_csv(\"powerbi_exports/bank_esg_risk_export.csv\", index=False)\n",
    "print(\"Exported: bank_esg_risk_export.csv\")\n",
    "\n",
    "# Derived analytical DataFrames for Power BI:\n",
    "\n",
    "# Top ESG scoring countries\n",
    "top_esg = df_bank.groupby(\"country_name\")[\"value\"].mean().reset_index(name=\"avg_esg\")\n",
    "top_esg = top_esg.sort_values(\"avg_esg\", ascending=False).head(10)\n",
    "top_esg.to_csv(\"powerbi_exports/top_avg_esg.csv\", index=False)\n",
    "print(\"Exported: top_avg_esg.csv\")\n",
    "\n",
    "# Volatility (std dev) across indicators\n",
    "volatility = df_bank.groupby(\"indicator_name\")[\"value\"].std().reset_index(name=\"volatility\")\n",
    "volatility = volatility.sort_values(\"volatility\", ascending=False)\n",
    "volatility.to_csv(\"powerbi_exports/indicator_volatility.csv\", index=False)\n",
    "print(\"Exported: indicator_volatility.csv\")\n",
    "\n",
    "# Correlation between ESG values and GDP\n",
    "correlations = df_bank[[\"indicator_name\", \"value\", \"gdp\"]].dropna()\n",
    "corr_result = correlations.groupby(\"indicator_name\").apply(\n",
    "    lambda x: x[\"value\"].corr(x[\"gdp\"])\n",
    ").reset_index(name=\"gdp_esg_correlation\")\n",
    "corr_result = corr_result.sort_values(\"gdp_esg_correlation\", key=abs, ascending=False)\n",
    "corr_result.to_csv(\"powerbi_exports/gdp_esg_correlation.csv\", index=False)\n",
    "print(\"Exported: gdp_esg_correlation.csv\")\n",
    "\n",
    "# Countries with largest ESG improvements over time\n",
    "improvement = df_bank.dropna(subset=[\"value\", \"year\"]).copy()\n",
    "improvement[\"year\"] = improvement[\"year\"].astype(int)\n",
    "first = improvement.sort_values(\"year\").groupby([\"country_name\", \"indicator_name\"]).first().reset_index()\n",
    "last = improvement.sort_values(\"year\").groupby([\"country_name\", \"indicator_name\"]).last().reset_index()\n",
    "change = pd.merge(last, first, on=[\"country_name\", \"indicator_name\"], suffixes=(\"_last\", \"_first\"))\n",
    "change[\"improvement\"] = change[\"value_last\"] - change[\"value_first\"]\n",
    "top_improvements = change.sort_values(\"improvement\", ascending=False).head(10)\n",
    "top_improvements.to_csv(\"powerbi_exports/top_improvements.csv\", index=False)\n",
    "print(\"Exported: top_improvements.csv\")\n",
    "\n",
    "# ESG per capita calculation\n",
    "esg_per_capita = df_bank.groupby(\"country_name\").apply(\n",
    "    lambda x: x[\"value\"].sum() / x[\"population\"].mean()\n",
    ").reset_index(name=\"esg_per_capita\")\n",
    "esg_per_capita = esg_per_capita.sort_values(\"esg_per_capita\", ascending=False).head(10)\n",
    "esg_per_capita.to_csv(\"powerbi_exports/esg_per_capita.csv\", index=False)\n",
    "print(\"Exported: esg_per_capita.csv\")\n",
    "\n",
    "# Alternative for live connection:\n",
    "# In Power BI Desktop > Get Data > Snowflake > Use same credentials as .env\n"
   ]
  },
  {
   "cell_type": "code",
   "execution_count": null,
   "id": "01b66004-7d0c-42bd-99a3-67f5a001dde6",
   "metadata": {},
   "outputs": [],
   "source": [
    "beeper()"
   ]
  }
 ],
 "metadata": {
  "kernelspec": {
   "display_name": "Python 3 (ipykernel)",
   "language": "python",
   "name": "python3"
  },
  "language_info": {
   "codemirror_mode": {
    "name": "ipython",
    "version": 3
   },
   "file_extension": ".py",
   "mimetype": "text/x-python",
   "name": "python",
   "nbconvert_exporter": "python",
   "pygments_lexer": "ipython3",
   "version": "3.9.21"
  }
 },
 "nbformat": 4,
 "nbformat_minor": 5
}
